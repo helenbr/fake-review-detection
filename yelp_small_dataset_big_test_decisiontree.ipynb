{
 "cells": [
  {
   "cell_type": "code",
   "execution_count": 1,
   "metadata": {},
   "outputs": [
    {
     "name": "stdout",
     "output_type": "stream",
     "text": [
      "3626\n"
     ]
    },
    {
     "data": {
      "text/html": [
       "<div>\n",
       "<style scoped>\n",
       "    .dataframe tbody tr th:only-of-type {\n",
       "        vertical-align: middle;\n",
       "    }\n",
       "\n",
       "    .dataframe tbody tr th {\n",
       "        vertical-align: top;\n",
       "    }\n",
       "\n",
       "    .dataframe thead th {\n",
       "        text-align: right;\n",
       "    }\n",
       "</style>\n",
       "<table border=\"1\" class=\"dataframe\">\n",
       "  <thead>\n",
       "    <tr style=\"text-align: right;\">\n",
       "      <th></th>\n",
       "      <th>rating</th>\n",
       "      <th>reviewUsefulCount</th>\n",
       "      <th>coolCount</th>\n",
       "      <th>funnyCount</th>\n",
       "      <th>Sentiment</th>\n",
       "    </tr>\n",
       "  </thead>\n",
       "  <tbody>\n",
       "    <tr>\n",
       "      <th>1983</th>\n",
       "      <td>5</td>\n",
       "      <td>0</td>\n",
       "      <td>37.0</td>\n",
       "      <td>46.0</td>\n",
       "      <td>0.9796</td>\n",
       "    </tr>\n",
       "    <tr>\n",
       "      <th>667</th>\n",
       "      <td>5</td>\n",
       "      <td>0</td>\n",
       "      <td>26.0</td>\n",
       "      <td>17.0</td>\n",
       "      <td>0.9913</td>\n",
       "    </tr>\n",
       "    <tr>\n",
       "      <th>1491</th>\n",
       "      <td>4</td>\n",
       "      <td>1</td>\n",
       "      <td>92.0</td>\n",
       "      <td>60.0</td>\n",
       "      <td>0.9945</td>\n",
       "    </tr>\n",
       "    <tr>\n",
       "      <th>2546</th>\n",
       "      <td>4</td>\n",
       "      <td>0</td>\n",
       "      <td>494.0</td>\n",
       "      <td>323.0</td>\n",
       "      <td>0.8271</td>\n",
       "    </tr>\n",
       "    <tr>\n",
       "      <th>648</th>\n",
       "      <td>5</td>\n",
       "      <td>0</td>\n",
       "      <td>4.0</td>\n",
       "      <td>32.0</td>\n",
       "      <td>0.6369</td>\n",
       "    </tr>\n",
       "  </tbody>\n",
       "</table>\n",
       "</div>"
      ],
      "text/plain": [
       "      rating  reviewUsefulCount  coolCount  funnyCount  Sentiment\n",
       "1983       5                  0       37.0        46.0     0.9796\n",
       "667        5                  0       26.0        17.0     0.9913\n",
       "1491       4                  1       92.0        60.0     0.9945\n",
       "2546       4                  0      494.0       323.0     0.8271\n",
       "648        5                  0        4.0        32.0     0.6369"
      ]
     },
     "execution_count": 1,
     "metadata": {},
     "output_type": "execute_result"
    }
   ],
   "source": [
    "import requests\n",
    "from vaderSentiment.vaderSentiment import SentimentIntensityAnalyzer\n",
    "import pandas as pd\n",
    "import csv\n",
    "import numpy as np\n",
    "\n",
    "sia =SentimentIntensityAnalyzer()\n",
    "def get_sentiment_of(sentence_in):\n",
    "    try:\n",
    "        scrs=sia.polarity_scores(sentence_in)\n",
    "        the_important_one=scrs['compound']\n",
    "    except:\n",
    "        the_important_one=0\n",
    "    return the_important_one\n",
    "\n",
    "df = pd.read_csv('yelp_reviews_chicago_labeled.csv')\n",
    "df2 = df.drop(['reviewID', 'restaurantID', 'reviewerID', 'date', 'name', 'location', 'yelpJoinDate', 'mnr', 'rl', 'rd', 'Maximum Content Similarity'], axis = 1)\n",
    "df2 = df2.drop(['friendCount', 'reviewCount', 'firstCount', 'usefulCount', 'complimentCount', 'tipCount', 'fanCount', 'restaurantRating'], axis = 1)\n",
    "f = df2['reviewContent']\n",
    "sent = list()\n",
    "for rows in f:\n",
    "    #print(rows)\n",
    "    sent.append(get_sentiment_of(rows))\n",
    "print(len(sent))\n",
    "\n",
    "df2['Sentiment'] = sent\n",
    "df_final = df2.drop(['reviewContent'], axis = 1)\n",
    "fields_with_nan_length = df_final.isna().sum().where(lambda x : x > 0).dropna()\n",
    "df_final = df_final.iloc[:-1, :]\n",
    "authentic_reviews_df = df_final[df_final['flagged'] == 'N']\n",
    "fake_reviews_df = df_final[df_final['flagged'] == 'Y']\n",
    "authentic_reviews_df = authentic_reviews_df.sample(n = 500)\n",
    "df_final = pd.concat([authentic_reviews_df , fake_reviews_df])\n",
    "df_final['flagged'] = [0 if x == 'N' else 1 for x in df_final['flagged']]\n",
    "flagged = df_final['flagged']\n",
    "df_final = df_final.drop(['flagged'], axis=1)\n",
    "df_final = pd.concat([df_final,flagged], axis=1)\n",
    "X = df_final.iloc[:, :-1]\n",
    "y = flagged\n",
    "X.head()\n",
    "\n"
   ]
  },
  {
   "cell_type": "code",
   "execution_count": 2,
   "metadata": {},
   "outputs": [],
   "source": [
    "from sklearn.model_selection import train_test_split, StratifiedKFold\n",
    "from sklearn.metrics import accuracy_score\n",
    "from sklearn import metrics\n",
    "from sklearn.tree import DecisionTreeClassifier\n",
    "from sklearn.model_selection import cross_val_score"
   ]
  },
  {
   "cell_type": "code",
   "execution_count": 3,
   "metadata": {},
   "outputs": [],
   "source": [
    "X_train, X_test, y_train, y_test = train_test_split(X, y, test_size=0.3, random_state = 1)"
   ]
  },
  {
   "cell_type": "code",
   "execution_count": 4,
   "metadata": {},
   "outputs": [
    {
     "name": "stdout",
     "output_type": "stream",
     "text": [
      "[0.84693878 0.82653061 0.80612245 0.7755102  0.82474227 0.82474227\n",
      " 0.69072165 0.71134021 0.84536082 0.73195876]\n",
      "Overal Accuracy: 0.79 (+/- 0.11)\n"
     ]
    }
   ],
   "source": [
    "clf = DecisionTreeClassifier(random_state=0)\n",
    "scores = cross_val_score(clf, X, y, cv = 10)\n",
    "print(scores)\n",
    "\n",
    "from sklearn.model_selection import cross_validate\n",
    "\n",
    "print(\"Overal Accuracy: %0.2f (+/- %0.2f)\" % (scores.mean(), scores.std() * 2))"
   ]
  },
  {
   "cell_type": "code",
   "execution_count": 5,
   "metadata": {},
   "outputs": [
    {
     "name": "stdout",
     "output_type": "stream",
     "text": [
      " 1 funnyCount                     0.476346\n",
      " 2 Sentiment                      0.268856\n",
      " 3 reviewUsefulCount              0.126381\n",
      " 4 coolCount                      0.074709\n",
      " 5 rating                         0.053707\n"
     ]
    }
   ],
   "source": [
    "train_copy = df_final.drop(['flagged'], axis=1)\n",
    "clf.fit(X_train, y_train)\n",
    "y_pred = clf.predict(X_test)\n",
    "feat_labels = train_copy.columns[0:]\n",
    "importances = clf.feature_importances_\n",
    "indices = np.argsort(importances)[::-1]\n",
    "for f in range(X.shape[1]):\n",
    "    print(\"%2d %-*s %f\" %(f+1,30,feat_labels[indices[f]],importances[indices[f]]))"
   ]
  },
  {
   "cell_type": "code",
   "execution_count": 6,
   "metadata": {},
   "outputs": [
    {
     "name": "stdout",
     "output_type": "stream",
     "text": [
      "              precision    recall  f1-score   support\n",
      "\n",
      "     class 0       0.79      0.84      0.81       146\n",
      "     class 1       0.83      0.78      0.80       147\n",
      "\n",
      "   micro avg       0.81      0.81      0.81       293\n",
      "   macro avg       0.81      0.81      0.81       293\n",
      "weighted avg       0.81      0.81      0.81       293\n",
      "\n"
     ]
    }
   ],
   "source": [
    "from sklearn.metrics import classification_report\n",
    "\n",
    "target_names = ['class 0', 'class 1']\n",
    "print(classification_report(y_test, y_pred, target_names=target_names))"
   ]
  },
  {
   "cell_type": "code",
   "execution_count": null,
   "metadata": {},
   "outputs": [],
   "source": []
  }
 ],
 "metadata": {
  "kernelspec": {
   "display_name": "Python 3",
   "language": "python",
   "name": "python3"
  },
  "language_info": {
   "codemirror_mode": {
    "name": "ipython",
    "version": 3
   },
   "file_extension": ".py",
   "mimetype": "text/x-python",
   "name": "python",
   "nbconvert_exporter": "python",
   "pygments_lexer": "ipython3",
   "version": "3.7.3"
  }
 },
 "nbformat": 4,
 "nbformat_minor": 2
}
