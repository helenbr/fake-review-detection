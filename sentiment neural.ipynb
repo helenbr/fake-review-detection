{
 "cells": [
  {
   "cell_type": "code",
   "execution_count": 1,
   "metadata": {},
   "outputs": [],
   "source": [
    "import requests\n",
    "from vaderSentiment.vaderSentiment import SentimentIntensityAnalyzer"
   ]
  },
  {
   "cell_type": "code",
   "execution_count": 2,
   "metadata": {},
   "outputs": [],
   "source": [
    "sia =SentimentIntensityAnalyzer()\n",
    "def get_sentiment_of(sentence_in):\n",
    "    try:\n",
    "        scrs=sia.polarity_scores(sentence_in)\n",
    "        the_important_one=scrs['compound']\n",
    "    except:\n",
    "        the_important_one=0\n",
    "    return the_important_one"
   ]
  },
  {
   "cell_type": "code",
   "execution_count": 3,
   "metadata": {},
   "outputs": [],
   "source": [
    "import pandas as pd\n",
    "import csv\n",
    "\n",
    "df = pd.read_csv(\"output_meta_yelpResData_NRYRcleaned.txt\", delimiter = \" \", names = [ \"Date\" , \"review ID\", \"reviewer ID\", \"product ID\", \"Label\", \"Unknown1\", \"Unknown2\", \"reviewUsefulCount\", \"Star Rating\"])\n",
    "df2 = pd.read_csv(\"output_review_yelpResData_NRYRcleaned.txt\", delimiter = \"\\n\",names = [\"review\"])"
   ]
  },
  {
   "cell_type": "code",
   "execution_count": 4,
   "metadata": {},
   "outputs": [],
   "source": [
    "result = pd.concat([df, df2], axis = 1)"
   ]
  },
  {
   "cell_type": "code",
   "execution_count": 5,
   "metadata": {},
   "outputs": [
    {
     "name": "stdout",
     "output_type": "stream",
     "text": [
      "61541\n"
     ]
    }
   ],
   "source": [
    "f = open(\"output_review_yelpResData_NRYRcleaned.txt\", \"r\")\n",
    "sent = list()\n",
    "for rows in f:\n",
    "    #print(rows)\n",
    "    sent.append(get_sentiment_of(rows))\n",
    "print(len(sent))"
   ]
  },
  {
   "cell_type": "code",
   "execution_count": 6,
   "metadata": {},
   "outputs": [],
   "source": [
    "import numpy as np\n",
    "\n",
    "result['Sentiment'] = sent\n",
    "df_final = result.drop(['review ID','product ID', 'reviewer ID', 'Date', 'review' ], axis = 1)\n",
    "authentic_reviews_df = df_final[df_final['Label'] == 'N']\n",
    "fake_reviews_df = df_final[df_final['Label'] == 'Y']\n",
    "authentic_reviews_df = authentic_reviews_df.sample(n = 8141)"
   ]
  },
  {
   "cell_type": "code",
   "execution_count": 7,
   "metadata": {},
   "outputs": [],
   "source": [
    "df_final = pd.concat([authentic_reviews_df , fake_reviews_df])\n",
    "df_final['Label'] = [0 if x == 'N' else 1 for x in df_final['Label']]"
   ]
  },
  {
   "cell_type": "code",
   "execution_count": 8,
   "metadata": {},
   "outputs": [
    {
     "data": {
      "text/html": [
       "<div>\n",
       "<style scoped>\n",
       "    .dataframe tbody tr th:only-of-type {\n",
       "        vertical-align: middle;\n",
       "    }\n",
       "\n",
       "    .dataframe tbody tr th {\n",
       "        vertical-align: top;\n",
       "    }\n",
       "\n",
       "    .dataframe thead th {\n",
       "        text-align: right;\n",
       "    }\n",
       "</style>\n",
       "<table border=\"1\" class=\"dataframe\">\n",
       "  <thead>\n",
       "    <tr style=\"text-align: right;\">\n",
       "      <th></th>\n",
       "      <th>Unknown1</th>\n",
       "      <th>Unknown2</th>\n",
       "      <th>reviewUsefulCount</th>\n",
       "      <th>Star Rating</th>\n",
       "      <th>Sentiment</th>\n",
       "    </tr>\n",
       "  </thead>\n",
       "  <tbody>\n",
       "    <tr>\n",
       "      <th>14612</th>\n",
       "      <td>0</td>\n",
       "      <td>0</td>\n",
       "      <td>0</td>\n",
       "      <td>4</td>\n",
       "      <td>0.9718</td>\n",
       "    </tr>\n",
       "    <tr>\n",
       "      <th>4914</th>\n",
       "      <td>0</td>\n",
       "      <td>0</td>\n",
       "      <td>2</td>\n",
       "      <td>4</td>\n",
       "      <td>0.9891</td>\n",
       "    </tr>\n",
       "    <tr>\n",
       "      <th>24963</th>\n",
       "      <td>0</td>\n",
       "      <td>0</td>\n",
       "      <td>0</td>\n",
       "      <td>5</td>\n",
       "      <td>0.9682</td>\n",
       "    </tr>\n",
       "    <tr>\n",
       "      <th>48376</th>\n",
       "      <td>1</td>\n",
       "      <td>2</td>\n",
       "      <td>2</td>\n",
       "      <td>5</td>\n",
       "      <td>0.9952</td>\n",
       "    </tr>\n",
       "    <tr>\n",
       "      <th>21955</th>\n",
       "      <td>0</td>\n",
       "      <td>1</td>\n",
       "      <td>1</td>\n",
       "      <td>4</td>\n",
       "      <td>0.9424</td>\n",
       "    </tr>\n",
       "  </tbody>\n",
       "</table>\n",
       "</div>"
      ],
      "text/plain": [
       "       Unknown1  Unknown2  reviewUsefulCount  Star Rating  Sentiment\n",
       "14612         0         0                  0            4     0.9718\n",
       "4914          0         0                  2            4     0.9891\n",
       "24963         0         0                  0            5     0.9682\n",
       "48376         1         2                  2            5     0.9952\n",
       "21955         0         1                  1            4     0.9424"
      ]
     },
     "execution_count": 8,
     "metadata": {},
     "output_type": "execute_result"
    }
   ],
   "source": [
    "flagged = df_final['Label']\n",
    "df_final = df_final.drop(['Label'], axis=1)\n",
    "df_final = pd.concat([df_final,flagged], axis=1)\n",
    "X = df_final.iloc[:, :-1]\n",
    "y = flagged\n",
    "X.head()"
   ]
  },
  {
   "cell_type": "code",
   "execution_count": 9,
   "metadata": {},
   "outputs": [],
   "source": [
    "X = X.values"
   ]
  },
  {
   "cell_type": "code",
   "execution_count": 10,
   "metadata": {},
   "outputs": [],
   "source": [
    "y = yreshape(-1,1)"
   ]
  },
  {
   "cell_type": "code",
   "execution_count": 11,
   "metadata": {},
   "outputs": [],
   "source": [
    "#Normalizing the data\n",
    "from sklearn.preprocessing import StandardScaler\n",
    "sc = StandardScaler()\n",
    "X = sc.fit_transform(X)"
   ]
  },
  {
   "cell_type": "code",
   "execution_count": 12,
   "metadata": {},
   "outputs": [
    {
     "name": "stderr",
     "output_type": "stream",
     "text": [
      "C:\\Users\\Euclid\\Anaconda3\\lib\\site-packages\\sklearn\\preprocessing\\_encoders.py:371: FutureWarning: The handling of integer data will change in version 0.22. Currently, the categories are determined based on the range [0, max(values)], while in the future they will be determined based on the unique values.\n",
      "If you want the future behaviour and silence this warning, you can specify \"categories='auto'\".\n",
      "In case you used a LabelEncoder before this OneHotEncoder to convert the categories to integers, then you can now use the OneHotEncoder directly.\n",
      "  warnings.warn(msg, FutureWarning)\n"
     ]
    }
   ],
   "source": [
    "from sklearn.preprocessing import OneHotEncoder\n",
    "ohe = OneHotEncoder()\n",
    "y = ohe.fit_transform(y).toarray()"
   ]
  },
  {
   "cell_type": "code",
   "execution_count": 13,
   "metadata": {},
   "outputs": [],
   "source": [
    "from sklearn.model_selection import train_test_split\n",
    "X_train,X_test,y_train,y_test = train_test_split(X,y,test_size = 0.1)"
   ]
  },
  {
   "cell_type": "code",
   "execution_count": 14,
   "metadata": {},
   "outputs": [
    {
     "name": "stderr",
     "output_type": "stream",
     "text": [
      "Using TensorFlow backend.\n"
     ]
    },
    {
     "name": "stdout",
     "output_type": "stream",
     "text": [
      "WARNING:tensorflow:From C:\\Users\\Euclid\\Anaconda3\\lib\\site-packages\\keras\\backend\\tensorflow_backend.py:74: The name tf.get_default_graph is deprecated. Please use tf.compat.v1.get_default_graph instead.\n",
      "\n",
      "WARNING:tensorflow:From C:\\Users\\Euclid\\Anaconda3\\lib\\site-packages\\keras\\backend\\tensorflow_backend.py:517: The name tf.placeholder is deprecated. Please use tf.compat.v1.placeholder instead.\n",
      "\n",
      "WARNING:tensorflow:From C:\\Users\\Euclid\\Anaconda3\\lib\\site-packages\\keras\\backend\\tensorflow_backend.py:4138: The name tf.random_uniform is deprecated. Please use tf.random.uniform instead.\n",
      "\n"
     ]
    }
   ],
   "source": [
    "#Dependencies\n",
    "import keras\n",
    "from keras.models import Sequential\n",
    "from keras.layers import Dense\n",
    "\n",
    "# Neural network\n",
    "model = Sequential()\n",
    "model.add(Dense(16, input_dim=5, activation='relu'))\n",
    "model.add(Dense(5, activation='relu'))\n",
    "model.add(Dense(2, activation='softmax'))"
   ]
  },
  {
   "cell_type": "code",
   "execution_count": 1,
   "metadata": {},
   "outputs": [
    {
     "ename": "NameError",
     "evalue": "name 'model' is not defined",
     "output_type": "error",
     "traceback": [
      "\u001b[1;31m---------------------------------------------------------------------------\u001b[0m",
      "\u001b[1;31mNameError\u001b[0m                                 Traceback (most recent call last)",
      "\u001b[1;32m<ipython-input-1-5e965480fd2f>\u001b[0m in \u001b[0;36m<module>\u001b[1;34m\u001b[0m\n\u001b[1;32m----> 1\u001b[1;33m \u001b[0mmodel\u001b[0m\u001b[1;33m.\u001b[0m\u001b[0mcompile\u001b[0m\u001b[1;33m(\u001b[0m\u001b[0mloss\u001b[0m\u001b[1;33m=\u001b[0m\u001b[1;34m'sparse_categorical_crossenropy'\u001b[0m\u001b[1;33m,\u001b[0m \u001b[0moptimizer\u001b[0m\u001b[1;33m=\u001b[0m\u001b[1;34m'adam'\u001b[0m\u001b[1;33m,\u001b[0m \u001b[0mmetrics\u001b[0m\u001b[1;33m=\u001b[0m\u001b[1;33m[\u001b[0m\u001b[1;34m'accuracy'\u001b[0m\u001b[1;33m]\u001b[0m\u001b[1;33m)\u001b[0m\u001b[1;33m\u001b[0m\u001b[1;33m\u001b[0m\u001b[0m\n\u001b[0m",
      "\u001b[1;31mNameError\u001b[0m: name 'model' is not defined"
     ]
    }
   ],
   "source": [
    "model.compile(loss='sparse_categorical_crossenropy', optimizer='adam', metrics=['accuracy'])"
   ]
  },
  {
   "cell_type": "code",
   "execution_count": 16,
   "metadata": {},
   "outputs": [
    {
     "name": "stdout",
     "output_type": "stream",
     "text": [
      "WARNING:tensorflow:From C:\\Users\\Euclid\\Anaconda3\\lib\\site-packages\\tensorflow\\python\\ops\\math_grad.py:1250: add_dispatch_support.<locals>.wrapper (from tensorflow.python.ops.array_ops) is deprecated and will be removed in a future version.\n",
      "Instructions for updating:\n",
      "Use tf.where in 2.0, which has the same broadcast rule as np.where\n",
      "WARNING:tensorflow:From C:\\Users\\Euclid\\Anaconda3\\lib\\site-packages\\keras\\backend\\tensorflow_backend.py:986: The name tf.assign_add is deprecated. Please use tf.compat.v1.assign_add instead.\n",
      "\n",
      "Epoch 1/100\n",
      "14653/14653 [==============================] - 1s 39us/step - loss: 0.5944 - acc: 0.6860\n",
      "Epoch 2/100\n",
      "14653/14653 [==============================] - 0s 15us/step - loss: 0.4929 - acc: 0.7484\n",
      "Epoch 3/100\n",
      "14653/14653 [==============================] - 0s 17us/step - loss: 0.4691 - acc: 0.7505\n",
      "Epoch 4/100\n",
      "14653/14653 [==============================] - 0s 16us/step - loss: 0.4628 - acc: 0.7512\n",
      "Epoch 5/100\n",
      "14653/14653 [==============================] - 0s 18us/step - loss: 0.4602 - acc: 0.7510: 0s - loss: 0.4661 - acc: 0.\n",
      "Epoch 6/100\n",
      "14653/14653 [==============================] - 0s 15us/step - loss: 0.4585 - acc: 0.7545\n",
      "Epoch 7/100\n",
      "14653/14653 [==============================] - 0s 15us/step - loss: 0.4572 - acc: 0.7540\n",
      "Epoch 8/100\n",
      "14653/14653 [==============================] - 0s 17us/step - loss: 0.4568 - acc: 0.7548\n",
      "Epoch 9/100\n",
      "14653/14653 [==============================] - 0s 16us/step - loss: 0.4560 - acc: 0.7551\n",
      "Epoch 10/100\n",
      "14653/14653 [==============================] - 0s 16us/step - loss: 0.4561 - acc: 0.7536\n",
      "Epoch 11/100\n",
      "14653/14653 [==============================] - 0s 16us/step - loss: 0.4557 - acc: 0.7552\n",
      "Epoch 12/100\n",
      "14653/14653 [==============================] - 0s 16us/step - loss: 0.4553 - acc: 0.7566\n",
      "Epoch 13/100\n",
      "14653/14653 [==============================] - 0s 16us/step - loss: 0.4559 - acc: 0.7553\n",
      "Epoch 14/100\n",
      "14653/14653 [==============================] - 0s 16us/step - loss: 0.4555 - acc: 0.7553\n",
      "Epoch 15/100\n",
      "14653/14653 [==============================] - 0s 16us/step - loss: 0.4551 - acc: 0.7571\n",
      "Epoch 16/100\n",
      "14653/14653 [==============================] - 0s 16us/step - loss: 0.4552 - acc: 0.7568\n",
      "Epoch 17/100\n",
      "14653/14653 [==============================] - 0s 16us/step - loss: 0.4551 - acc: 0.7549\n",
      "Epoch 18/100\n",
      "14653/14653 [==============================] - 0s 16us/step - loss: 0.4547 - acc: 0.7559\n",
      "Epoch 19/100\n",
      "14653/14653 [==============================] - 0s 17us/step - loss: 0.4551 - acc: 0.7571\n",
      "Epoch 20/100\n",
      "14653/14653 [==============================] - 0s 17us/step - loss: 0.4549 - acc: 0.7562\n",
      "Epoch 21/100\n",
      "14653/14653 [==============================] - 0s 16us/step - loss: 0.4547 - acc: 0.7564\n",
      "Epoch 22/100\n",
      "14653/14653 [==============================] - 0s 16us/step - loss: 0.4549 - acc: 0.7563\n",
      "Epoch 23/100\n",
      "14653/14653 [==============================] - 0s 16us/step - loss: 0.4547 - acc: 0.7564\n",
      "Epoch 24/100\n",
      "14653/14653 [==============================] - 0s 16us/step - loss: 0.4546 - acc: 0.7564\n",
      "Epoch 25/100\n",
      "14653/14653 [==============================] - 0s 16us/step - loss: 0.4543 - acc: 0.7577\n",
      "Epoch 26/100\n",
      "14653/14653 [==============================] - 0s 19us/step - loss: 0.4550 - acc: 0.7547\n",
      "Epoch 27/100\n",
      "14653/14653 [==============================] - 0s 16us/step - loss: 0.4549 - acc: 0.7544\n",
      "Epoch 28/100\n",
      "14653/14653 [==============================] - 0s 16us/step - loss: 0.4544 - acc: 0.7558\n",
      "Epoch 29/100\n",
      "14653/14653 [==============================] - 0s 16us/step - loss: 0.4547 - acc: 0.7557\n",
      "Epoch 30/100\n",
      "14653/14653 [==============================] - 0s 17us/step - loss: 0.4544 - acc: 0.7569\n",
      "Epoch 31/100\n",
      "14653/14653 [==============================] - 0s 16us/step - loss: 0.4545 - acc: 0.7555\n",
      "Epoch 32/100\n",
      "14653/14653 [==============================] - 0s 16us/step - loss: 0.4546 - acc: 0.7569\n",
      "Epoch 33/100\n",
      "14653/14653 [==============================] - 0s 16us/step - loss: 0.4545 - acc: 0.7567\n",
      "Epoch 34/100\n",
      "14653/14653 [==============================] - 0s 16us/step - loss: 0.4546 - acc: 0.7559\n",
      "Epoch 35/100\n",
      "14653/14653 [==============================] - 0s 16us/step - loss: 0.4543 - acc: 0.7572\n",
      "Epoch 36/100\n",
      "14653/14653 [==============================] - 0s 16us/step - loss: 0.4542 - acc: 0.7547\n",
      "Epoch 37/100\n",
      "14653/14653 [==============================] - 0s 17us/step - loss: 0.4541 - acc: 0.7553\n",
      "Epoch 38/100\n",
      "14653/14653 [==============================] - 0s 17us/step - loss: 0.4543 - acc: 0.7562\n",
      "Epoch 39/100\n",
      "14653/14653 [==============================] - 0s 21us/step - loss: 0.4543 - acc: 0.7557\n",
      "Epoch 40/100\n",
      "14653/14653 [==============================] - 0s 20us/step - loss: 0.4545 - acc: 0.7562\n",
      "Epoch 41/100\n",
      "14653/14653 [==============================] - 0s 17us/step - loss: 0.4537 - acc: 0.7583\n",
      "Epoch 42/100\n",
      "14653/14653 [==============================] - 0s 19us/step - loss: 0.4541 - acc: 0.7562\n",
      "Epoch 43/100\n",
      "14653/14653 [==============================] - 0s 16us/step - loss: 0.4540 - acc: 0.7554\n",
      "Epoch 44/100\n",
      "14653/14653 [==============================] - 0s 16us/step - loss: 0.4536 - acc: 0.7562\n",
      "Epoch 45/100\n",
      "14653/14653 [==============================] - 0s 16us/step - loss: 0.4542 - acc: 0.7576\n",
      "Epoch 46/100\n",
      "14653/14653 [==============================] - 0s 17us/step - loss: 0.4539 - acc: 0.7564\n",
      "Epoch 47/100\n",
      "14653/14653 [==============================] - 0s 16us/step - loss: 0.4542 - acc: 0.7573\n",
      "Epoch 48/100\n",
      "14653/14653 [==============================] - 0s 16us/step - loss: 0.4545 - acc: 0.7541\n",
      "Epoch 49/100\n",
      "14653/14653 [==============================] - 0s 17us/step - loss: 0.4540 - acc: 0.7566\n",
      "Epoch 50/100\n",
      "14653/14653 [==============================] - 0s 19us/step - loss: 0.4539 - acc: 0.7571\n",
      "Epoch 51/100\n",
      "14653/14653 [==============================] - 0s 15us/step - loss: 0.4544 - acc: 0.7559\n",
      "Epoch 52/100\n",
      "14653/14653 [==============================] - 0s 16us/step - loss: 0.4542 - acc: 0.7554\n",
      "Epoch 53/100\n",
      "14653/14653 [==============================] - 0s 16us/step - loss: 0.4538 - acc: 0.7560\n",
      "Epoch 54/100\n",
      "14653/14653 [==============================] - ETA: 0s - loss: 0.4526 - acc: 0.756 - 0s 16us/step - loss: 0.4542 - acc: 0.7562\n",
      "Epoch 55/100\n",
      "14653/14653 [==============================] - 0s 16us/step - loss: 0.4540 - acc: 0.7576\n",
      "Epoch 56/100\n",
      "14653/14653 [==============================] - 0s 16us/step - loss: 0.4544 - acc: 0.7560\n",
      "Epoch 57/100\n",
      "14653/14653 [==============================] - 0s 16us/step - loss: 0.4539 - acc: 0.7564\n",
      "Epoch 58/100\n",
      "14653/14653 [==============================] - 0s 18us/step - loss: 0.4538 - acc: 0.7557\n",
      "Epoch 59/100\n",
      "14653/14653 [==============================] - 0s 16us/step - loss: 0.4541 - acc: 0.7565\n",
      "Epoch 60/100\n",
      "14653/14653 [==============================] - 0s 17us/step - loss: 0.4542 - acc: 0.7558\n",
      "Epoch 61/100\n",
      "14653/14653 [==============================] - 0s 15us/step - loss: 0.4540 - acc: 0.7570\n",
      "Epoch 62/100\n",
      "14653/14653 [==============================] - 0s 15us/step - loss: 0.4539 - acc: 0.7555\n",
      "Epoch 63/100\n",
      "14653/14653 [==============================] - 0s 16us/step - loss: 0.4539 - acc: 0.7579\n",
      "Epoch 64/100\n",
      "14653/14653 [==============================] - 0s 16us/step - loss: 0.4538 - acc: 0.7573\n",
      "Epoch 65/100\n",
      "14653/14653 [==============================] - 0s 16us/step - loss: 0.4541 - acc: 0.7555\n",
      "Epoch 66/100\n",
      "14653/14653 [==============================] - 0s 16us/step - loss: 0.4541 - acc: 0.7573\n",
      "Epoch 67/100\n",
      "14653/14653 [==============================] - 0s 18us/step - loss: 0.4539 - acc: 0.7553\n",
      "Epoch 68/100\n",
      "14653/14653 [==============================] - 0s 15us/step - loss: 0.4536 - acc: 0.7575\n",
      "Epoch 69/100\n",
      "14653/14653 [==============================] - 0s 16us/step - loss: 0.4539 - acc: 0.7557\n",
      "Epoch 70/100\n",
      "14653/14653 [==============================] - 0s 16us/step - loss: 0.4538 - acc: 0.7555: 0s - loss: 0.4565 - acc: 0.75\n",
      "Epoch 71/100\n",
      "14653/14653 [==============================] - 0s 18us/step - loss: 0.4543 - acc: 0.7563\n",
      "Epoch 72/100\n",
      "14653/14653 [==============================] - 0s 16us/step - loss: 0.4539 - acc: 0.7568\n",
      "Epoch 73/100\n",
      "14653/14653 [==============================] - 0s 16us/step - loss: 0.4538 - acc: 0.7571: 0s - loss: 0.4464 - acc: 0.\n",
      "Epoch 74/100\n",
      "14653/14653 [==============================] - 0s 16us/step - loss: 0.4539 - acc: 0.7560\n"
     ]
    },
    {
     "name": "stdout",
     "output_type": "stream",
     "text": [
      "Epoch 75/100\n",
      "14653/14653 [==============================] - 0s 16us/step - loss: 0.4541 - acc: 0.7558\n",
      "Epoch 76/100\n",
      "14653/14653 [==============================] - 0s 16us/step - loss: 0.4540 - acc: 0.7566\n",
      "Epoch 77/100\n",
      "14653/14653 [==============================] - 0s 15us/step - loss: 0.4539 - acc: 0.7558\n",
      "Epoch 78/100\n",
      "14653/14653 [==============================] - 0s 15us/step - loss: 0.4536 - acc: 0.7566\n",
      "Epoch 79/100\n",
      "14653/14653 [==============================] - 0s 16us/step - loss: 0.4540 - acc: 0.7552\n",
      "Epoch 80/100\n",
      "14653/14653 [==============================] - 0s 16us/step - loss: 0.4534 - acc: 0.7572\n",
      "Epoch 81/100\n",
      "14653/14653 [==============================] - 0s 16us/step - loss: 0.4540 - acc: 0.7555\n",
      "Epoch 82/100\n",
      "14653/14653 [==============================] - 0s 16us/step - loss: 0.4540 - acc: 0.7567\n",
      "Epoch 83/100\n",
      "14653/14653 [==============================] - 0s 16us/step - loss: 0.4539 - acc: 0.7577\n",
      "Epoch 84/100\n",
      "14653/14653 [==============================] - 0s 16us/step - loss: 0.4537 - acc: 0.7547\n",
      "Epoch 85/100\n",
      "14653/14653 [==============================] - 0s 16us/step - loss: 0.4540 - acc: 0.7574\n",
      "Epoch 86/100\n",
      "14653/14653 [==============================] - 0s 16us/step - loss: 0.4538 - acc: 0.7554\n",
      "Epoch 87/100\n",
      "14653/14653 [==============================] - 0s 16us/step - loss: 0.4537 - acc: 0.7561\n",
      "Epoch 88/100\n",
      "14653/14653 [==============================] - 0s 16us/step - loss: 0.4536 - acc: 0.7568\n",
      "Epoch 89/100\n",
      "14653/14653 [==============================] - 0s 16us/step - loss: 0.4539 - acc: 0.7565\n",
      "Epoch 90/100\n",
      "14653/14653 [==============================] - 0s 16us/step - loss: 0.4536 - acc: 0.7564\n",
      "Epoch 91/100\n",
      "14653/14653 [==============================] - 0s 16us/step - loss: 0.4539 - acc: 0.7559\n",
      "Epoch 92/100\n",
      "14653/14653 [==============================] - 0s 16us/step - loss: 0.4537 - acc: 0.7558\n",
      "Epoch 93/100\n",
      "14653/14653 [==============================] - 0s 16us/step - loss: 0.4538 - acc: 0.7577\n",
      "Epoch 94/100\n",
      "14653/14653 [==============================] - 0s 16us/step - loss: 0.4539 - acc: 0.7570\n",
      "Epoch 95/100\n",
      "14653/14653 [==============================] - 0s 16us/step - loss: 0.4535 - acc: 0.7574\n",
      "Epoch 96/100\n",
      "14653/14653 [==============================] - 0s 16us/step - loss: 0.4540 - acc: 0.7564\n",
      "Epoch 97/100\n",
      "14653/14653 [==============================] - 0s 18us/step - loss: 0.4536 - acc: 0.7566\n",
      "Epoch 98/100\n",
      "14653/14653 [==============================] - 0s 15us/step - loss: 0.4538 - acc: 0.7570\n",
      "Epoch 99/100\n",
      "14653/14653 [==============================] - 0s 15us/step - loss: 0.4536 - acc: 0.7551\n",
      "Epoch 100/100\n",
      "14653/14653 [==============================] - 0s 15us/step - loss: 0.4535 - acc: 0.7573\n"
     ]
    }
   ],
   "source": [
    "history = model.fit(X_train, y_train, epochs=100, batch_size=64)"
   ]
  },
  {
   "cell_type": "code",
   "execution_count": 17,
   "metadata": {},
   "outputs": [],
   "source": [
    "y_pred = model.predict(X_test)\n",
    "#Converting predictions to label\n",
    "pred = list()\n",
    "for i in range(len(y_pred)):\n",
    "    pred.append(np.argmax(y_pred[i]))\n",
    "#Converting one hot encoded test label to label\n",
    "test = list()\n",
    "for i in range(len(y_test)):\n",
    "    test.append(np.argmax(y_test[i]))"
   ]
  },
  {
   "cell_type": "code",
   "execution_count": 18,
   "metadata": {},
   "outputs": [
    {
     "name": "stdout",
     "output_type": "stream",
     "text": [
      "Accuracy is: 74.52424800491099\n",
      "              precision    recall  f1-score   support\n",
      "\n",
      "           0       0.93      0.54      0.68       834\n",
      "           1       0.67      0.96      0.79       795\n",
      "\n",
      "   micro avg       0.75      0.75      0.75      1629\n",
      "   macro avg       0.80      0.75      0.74      1629\n",
      "weighted avg       0.80      0.75      0.73      1629\n",
      "\n"
     ]
    }
   ],
   "source": [
    "from sklearn.metrics import accuracy_score\n",
    "from sklearn.metrics import classification_report\n",
    "\n",
    "a = accuracy_score(test, pred)\n",
    "print('Accuracy is:', a*100)\n",
    "print(classification_report(test, pred))\n",
    "\n"
   ]
  },
  {
   "cell_type": "code",
   "execution_count": 19,
   "metadata": {},
   "outputs": [
    {
     "name": "stdout",
     "output_type": "stream",
     "text": [
      "dict_keys(['loss', 'acc'])\n"
     ]
    },
    {
     "data": {
      "text/plain": [
       "<Figure size 640x480 with 1 Axes>"
      ]
     },
     "metadata": {},
     "output_type": "display_data"
    }
   ],
   "source": [
    "from matplotlib import pyplot as plt\n",
    "\n",
    "plt.plot(history.history['loss']) \n",
    "print(history.history.keys())\n",
    "plt.title('Model loss') \n",
    "plt.ylabel('Loss') \n",
    "plt.xlabel('Epoch') \n",
    "plt.legend(['Train', 'Test'], loc='upper left') \n",
    "plt.show()"
   ]
  },
  {
   "cell_type": "code",
   "execution_count": null,
   "metadata": {},
   "outputs": [],
   "source": []
  }
 ],
 "metadata": {
  "kernelspec": {
   "display_name": "Python 3",
   "language": "python",
   "name": "python3"
  },
  "language_info": {
   "codemirror_mode": {
    "name": "ipython",
    "version": 3
   },
   "file_extension": ".py",
   "mimetype": "text/x-python",
   "name": "python",
   "nbconvert_exporter": "python",
   "pygments_lexer": "ipython3",
   "version": "3.7.3"
  }
 },
 "nbformat": 4,
 "nbformat_minor": 2
}
