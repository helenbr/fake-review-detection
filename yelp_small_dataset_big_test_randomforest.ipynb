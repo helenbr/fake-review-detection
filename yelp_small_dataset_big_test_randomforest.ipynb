{
 "cells": [
  {
   "cell_type": "code",
   "execution_count": 1,
   "metadata": {},
   "outputs": [
    {
     "name": "stdout",
     "output_type": "stream",
     "text": [
      "3626\n"
     ]
    },
    {
     "data": {
      "text/html": [
       "<div>\n",
       "<style scoped>\n",
       "    .dataframe tbody tr th:only-of-type {\n",
       "        vertical-align: middle;\n",
       "    }\n",
       "\n",
       "    .dataframe tbody tr th {\n",
       "        vertical-align: top;\n",
       "    }\n",
       "\n",
       "    .dataframe thead th {\n",
       "        text-align: right;\n",
       "    }\n",
       "</style>\n",
       "<table border=\"1\" class=\"dataframe\">\n",
       "  <thead>\n",
       "    <tr style=\"text-align: right;\">\n",
       "      <th></th>\n",
       "      <th>rating</th>\n",
       "      <th>reviewUsefulCount</th>\n",
       "      <th>coolCount</th>\n",
       "      <th>funnyCount</th>\n",
       "      <th>Sentiment</th>\n",
       "    </tr>\n",
       "  </thead>\n",
       "  <tbody>\n",
       "    <tr>\n",
       "      <th>1124</th>\n",
       "      <td>5</td>\n",
       "      <td>0</td>\n",
       "      <td>2.0</td>\n",
       "      <td>2.0</td>\n",
       "      <td>0.9387</td>\n",
       "    </tr>\n",
       "    <tr>\n",
       "      <th>725</th>\n",
       "      <td>5</td>\n",
       "      <td>0</td>\n",
       "      <td>4.0</td>\n",
       "      <td>7.0</td>\n",
       "      <td>0.9260</td>\n",
       "    </tr>\n",
       "    <tr>\n",
       "      <th>223</th>\n",
       "      <td>4</td>\n",
       "      <td>5</td>\n",
       "      <td>29.0</td>\n",
       "      <td>24.0</td>\n",
       "      <td>0.9805</td>\n",
       "    </tr>\n",
       "    <tr>\n",
       "      <th>2501</th>\n",
       "      <td>5</td>\n",
       "      <td>3</td>\n",
       "      <td>838.0</td>\n",
       "      <td>668.0</td>\n",
       "      <td>0.8957</td>\n",
       "    </tr>\n",
       "    <tr>\n",
       "      <th>125</th>\n",
       "      <td>5</td>\n",
       "      <td>17</td>\n",
       "      <td>1476.0</td>\n",
       "      <td>844.0</td>\n",
       "      <td>0.9979</td>\n",
       "    </tr>\n",
       "  </tbody>\n",
       "</table>\n",
       "</div>"
      ],
      "text/plain": [
       "      rating  reviewUsefulCount  coolCount  funnyCount  Sentiment\n",
       "1124       5                  0        2.0         2.0     0.9387\n",
       "725        5                  0        4.0         7.0     0.9260\n",
       "223        4                  5       29.0        24.0     0.9805\n",
       "2501       5                  3      838.0       668.0     0.8957\n",
       "125        5                 17     1476.0       844.0     0.9979"
      ]
     },
     "execution_count": 1,
     "metadata": {},
     "output_type": "execute_result"
    }
   ],
   "source": [
    "import requests\n",
    "from vaderSentiment.vaderSentiment import SentimentIntensityAnalyzer\n",
    "import pandas as pd\n",
    "import csv\n",
    "import numpy as np\n",
    "\n",
    "sia =SentimentIntensityAnalyzer()\n",
    "def get_sentiment_of(sentence_in):\n",
    "    try:\n",
    "        scrs=sia.polarity_scores(sentence_in)\n",
    "        the_important_one=scrs['compound']\n",
    "    except:\n",
    "        the_important_one=0\n",
    "    return the_important_one\n",
    "\n",
    "df = pd.read_csv('yelp_reviews_chicago_labeled.csv')\n",
    "df2 = df.drop(['reviewID', 'restaurantID', 'reviewerID', 'date', 'name', 'location', 'yelpJoinDate', 'mnr', 'rl', 'rd', 'Maximum Content Similarity'], axis = 1)\n",
    "df2 = df2.drop(['friendCount', 'reviewCount', 'firstCount', 'usefulCount', 'complimentCount', 'tipCount', 'fanCount', 'restaurantRating'], axis = 1)\n",
    "f = df2['reviewContent']\n",
    "sent = list()\n",
    "for rows in f:\n",
    "    #print(rows)\n",
    "    sent.append(get_sentiment_of(rows))\n",
    "print(len(sent))\n",
    "\n",
    "df2['Sentiment'] = sent\n",
    "df_final = df2.drop(['reviewContent'], axis = 1)\n",
    "fields_with_nan_length = df_final.isna().sum().where(lambda x : x > 0).dropna()\n",
    "df_final = df_final.iloc[:-1, :]\n",
    "authentic_reviews_df = df_final[df_final['flagged'] == 'N']\n",
    "fake_reviews_df = df_final[df_final['flagged'] == 'Y']\n",
    "authentic_reviews_df = authentic_reviews_df.sample(n = 500)\n",
    "df_final = pd.concat([authentic_reviews_df , fake_reviews_df])\n",
    "df_final['flagged'] = [0 if x == 'N' else 1 for x in df_final['flagged']]\n",
    "flagged = df_final['flagged']\n",
    "df_final = df_final.drop(['flagged'], axis=1)\n",
    "df_final = pd.concat([df_final,flagged], axis=1)\n",
    "X = df_final.iloc[:, :-1]\n",
    "y = flagged\n",
    "X.head()\n",
    "\n"
   ]
  },
  {
   "cell_type": "code",
   "execution_count": 2,
   "metadata": {},
   "outputs": [],
   "source": [
    "from sklearn.model_selection import train_test_split, StratifiedKFold\n",
    "from sklearn.metrics import accuracy_score\n",
    "from sklearn import metrics\n",
    "from sklearn.ensemble import RandomForestClassifier\n",
    "from sklearn.model_selection import cross_val_score"
   ]
  },
  {
   "cell_type": "code",
   "execution_count": 3,
   "metadata": {},
   "outputs": [],
   "source": [
    "X_train, X_test, y_train, y_test = train_test_split(X, y, test_size=0.3, random_state = 1)"
   ]
  },
  {
   "cell_type": "code",
   "execution_count": 4,
   "metadata": {},
   "outputs": [
    {
     "name": "stdout",
     "output_type": "stream",
     "text": [
      "[0.80612245 0.84693878 0.81632653 0.80612245 0.84536082 0.86597938\n",
      " 0.78350515 0.84536082 0.90721649 0.80412371]\n",
      "Overal Accuracy: 0.83 (+/- 0.07)\n"
     ]
    }
   ],
   "source": [
    "clf = RandomForestClassifier(n_estimators = 50,\n",
    "                                criterion = 'entropy',\n",
    "                                max_depth = 5,\n",
    "                                bootstrap = True)\n",
    "\n",
    "scores = cross_val_score(clf, X, y, cv = 10)\n",
    "print(scores)\n",
    "\n",
    "from sklearn.model_selection import cross_validate\n",
    "\n",
    "print(\"Overal Accuracy: %0.2f (+/- %0.2f)\" % (scores.mean(), scores.std() * 2))"
   ]
  },
  {
   "cell_type": "code",
   "execution_count": 5,
   "metadata": {},
   "outputs": [
    {
     "name": "stdout",
     "output_type": "stream",
     "text": [
      " 1 funnyCount                     0.350138\n",
      " 2 reviewUsefulCount              0.303711\n",
      " 3 coolCount                      0.248874\n",
      " 4 Sentiment                      0.069469\n",
      " 5 rating                         0.027808\n"
     ]
    }
   ],
   "source": [
    "train_copy = df_final.drop(['flagged'], axis=1)\n",
    "clf.fit(X_train, y_train)\n",
    "y_pred = clf.predict(X_test)\n",
    "feat_labels = train_copy.columns[0:]\n",
    "importances = clf.feature_importances_\n",
    "indices = np.argsort(importances)[::-1]\n",
    "for f in range(X.shape[1]):\n",
    "    print(\"%2d %-*s %f\" %(f+1,30,feat_labels[indices[f]],importances[indices[f]]))"
   ]
  },
  {
   "cell_type": "code",
   "execution_count": 6,
   "metadata": {},
   "outputs": [
    {
     "name": "stdout",
     "output_type": "stream",
     "text": [
      "              precision    recall  f1-score   support\n",
      "\n",
      "     class 0       0.91      0.76      0.83       146\n",
      "     class 1       0.80      0.93      0.86       147\n",
      "\n",
      "   micro avg       0.84      0.84      0.84       293\n",
      "   macro avg       0.85      0.84      0.84       293\n",
      "weighted avg       0.85      0.84      0.84       293\n",
      "\n"
     ]
    }
   ],
   "source": [
    "from sklearn.metrics import classification_report\n",
    "\n",
    "target_names = ['class 0', 'class 1']\n",
    "print(classification_report(y_test, y_pred, target_names=target_names))"
   ]
  },
  {
   "cell_type": "code",
   "execution_count": null,
   "metadata": {},
   "outputs": [],
   "source": []
  }
 ],
 "metadata": {
  "kernelspec": {
   "display_name": "Python 3",
   "language": "python",
   "name": "python3"
  },
  "language_info": {
   "codemirror_mode": {
    "name": "ipython",
    "version": 3
   },
   "file_extension": ".py",
   "mimetype": "text/x-python",
   "name": "python",
   "nbconvert_exporter": "python",
   "pygments_lexer": "ipython3",
   "version": "3.7.3"
  }
 },
 "nbformat": 4,
 "nbformat_minor": 2
}
